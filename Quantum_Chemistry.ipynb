{
 "cells": [
  {
   "cell_type": "code",
   "execution_count": 1,
   "metadata": {},
   "outputs": [
    {
     "data": {
      "text/plain": [
       "3.3240450269958357"
      ]
     },
     "execution_count": 1,
     "metadata": {},
     "output_type": "execute_result"
    }
   ],
   "source": [
    "from scipy import constants\n",
    "import numpy as np\n",
    "\n",
    "deBroglie = constants.h / ((constants.c /137) * constants.m_e) \n",
    "\n",
    "deBroglie / 10**-10"
   ]
  },
  {
   "cell_type": "code",
   "execution_count": 2,
   "metadata": {},
   "outputs": [
    {
     "data": {
      "text/plain": [
       "3.44989343679441"
      ]
     },
     "execution_count": 2,
     "metadata": {},
     "output_type": "execute_result"
    }
   ],
   "source": [
    "# question 1.3a\n",
    "(((constants.h * constants.c) / 2 * 10**7) / (1.602 * 10**-19)) -  2.75 "
   ]
  },
  {
   "cell_type": "code",
   "execution_count": 3,
   "metadata": {},
   "outputs": [
    {
     "data": {
      "text/plain": [
       "543.8503014731937"
      ]
     },
     "execution_count": 3,
     "metadata": {},
     "output_type": "execute_result"
    }
   ],
   "source": [
    "# question 1.3b\n",
    "(((constants.h * constants.c) / ((6.2-3.92) * (1.602 * 10**-19))) / 10**-9) "
   ]
  },
  {
   "cell_type": "code",
   "execution_count": 4,
   "metadata": {},
   "outputs": [
    {
     "name": "stdout",
     "output_type": "stream",
     "text": [
      "9.178783877995787e-16\n"
     ]
    }
   ],
   "source": [
    "# question 1.4\n",
    "\n",
    "x = np.arcsin(((1602*10**-19)*0.1))\n",
    "print(np.rad2deg(x))"
   ]
  },
  {
   "cell_type": "code",
   "execution_count": 5,
   "metadata": {},
   "outputs": [
    {
     "name": "stdout",
     "output_type": "stream",
     "text": [
      "2.222102216855927e-05\n"
     ]
    }
   ],
   "source": [
    "# question 1.4\n",
    "import numpy as np\n",
    "\n",
    "x = np.arcsin(((0.38783)/(0.1/10**-7)))\n",
    "print(np.rad2deg(x))"
   ]
  },
  {
   "cell_type": "code",
   "execution_count": 6,
   "metadata": {},
   "outputs": [
    {
     "data": {
      "text/plain": [
       "1.2399786873588818"
      ]
     },
     "execution_count": 6,
     "metadata": {},
     "output_type": "execute_result"
    }
   ],
   "source": [
    "((constants.h * (constants.c * 10**9)) / (1602*10**-19)) "
   ]
  },
  {
   "cell_type": "code",
   "execution_count": 7,
   "metadata": {},
   "outputs": [
    {
     "name": "stdout",
     "output_type": "stream",
     "text": [
      "7.104554547183573e-14\n"
     ]
    }
   ],
   "source": [
    "x = np.arcsin((((constants.h * constants.c) / (1602*10**-19))/(0.1/10**-7)))\n",
    "print(np.rad2deg(x))"
   ]
  },
  {
   "cell_type": "code",
   "execution_count": 8,
   "metadata": {},
   "outputs": [],
   "source": [
    "import math\n",
    "velocity = math.sqrt((2*(1602*10**-19))/constants.m_e)"
   ]
  },
  {
   "cell_type": "code",
   "execution_count": 9,
   "metadata": {},
   "outputs": [
    {
     "name": "stdout",
     "output_type": "stream",
     "text": [
      "0.038785132363366226\n"
     ]
    }
   ],
   "source": [
    "wavelength = (constants.h / (constants.m_e * velocity))* 10**9\n",
    "print(wavelength)"
   ]
  },
  {
   "cell_type": "code",
   "execution_count": 10,
   "metadata": {},
   "outputs": [
    {
     "name": "stdout",
     "output_type": "stream",
     "text": [
      "2.222224392277145e-06\n"
     ]
    }
   ],
   "source": [
    "# question 1.4(a) final\n",
    "x = np.arcsin((wavelength/(1000000)))\n",
    "print(np.rad2deg(x))"
   ]
  },
  {
   "cell_type": "code",
   "execution_count": 11,
   "metadata": {},
   "outputs": [
    {
     "data": {
      "text/plain": [
       "2.2231891137437474"
      ]
     },
     "execution_count": 11,
     "metadata": {},
     "output_type": "execute_result"
    }
   ],
   "source": [
    "# question 1.4b\n",
    "radian = 1*(constants.pi/180)\n",
    "0.0388/math.sin(radian)"
   ]
  },
  {
   "cell_type": "code",
   "execution_count": 12,
   "metadata": {},
   "outputs": [],
   "source": [
    "#pip install sympy"
   ]
  },
  {
   "cell_type": "code",
   "execution_count": 13,
   "metadata": {},
   "outputs": [
    {
     "data": {
      "text/latex": [
       "$\\displaystyle \\frac{4 a b^{2} m^{2} x^{2} e^{- b i t} e^{- \\frac{b m x^{2}}{h}}}{h^{2}} - \\frac{2 a b m e^{- b i t} e^{- \\frac{b m x^{2}}{h}}}{h}$"
      ],
      "text/plain": [
       "4*a*b**2*m**2*x**2*exp(-b*i*t)*exp(-b*m*x**2/h)/h**2 - 2*a*b*m*exp(-b*i*t)*exp(-b*m*x**2/h)/h"
      ]
     },
     "execution_count": 13,
     "metadata": {},
     "output_type": "execute_result"
    }
   ],
   "source": [
    "# question 1.6\n",
    "from sympy import *\n",
    "a, b, i, t, m, x, h = symbols('a b i t m x h', real=True)\n",
    "f = (a * (exp(-i *b *t))) * (exp((-b *m*(x**2))/h))\n",
    "p = diff(f, x)\n",
    "#diff(f, t)\n",
    "diff(p, x)"
   ]
  },
  {
   "cell_type": "code",
   "execution_count": 14,
   "metadata": {},
   "outputs": [
    {
     "data": {
      "text/latex": [
       "$\\displaystyle 4 b c^{2} x^{3} e^{- c x^{2}} - 6 b c x e^{- c x^{2}}$"
      ],
      "text/plain": [
       "4*b*c**2*x**3*exp(-c*x**2) - 6*b*c*x*exp(-c*x**2)"
      ]
     },
     "execution_count": 14,
     "metadata": {},
     "output_type": "execute_result"
    }
   ],
   "source": [
    "# question 1.7\n",
    "from sympy import *\n",
    "b, x, c = symbols('b x c', real=True)\n",
    "f = (b * exp(-c * x**2)) - 2 * b* c * x ** 2 * (exp(-c * (x**2)))\n",
    "p = diff(f, x)\n",
    "#diff(f, t)\n",
    "#diff(p, x)\n",
    "p"
   ]
  },
  {
   "cell_type": "code",
   "execution_count": 15,
   "metadata": {},
   "outputs": [
    {
     "data": {
      "text/latex": [
       "$\\displaystyle 4 b c^{2} x^{3} e^{- c x^{2}} - 6 b c x e^{- c x^{2}}$"
      ],
      "text/plain": [
       "4*b*c**2*x**3*exp(-c*x**2) - 6*b*c*x*exp(-c*x**2)"
      ]
     },
     "execution_count": 15,
     "metadata": {},
     "output_type": "execute_result"
    }
   ],
   "source": [
    "from sympy import *\n",
    "b, x, c = symbols('b x c', real=True)\n",
    "f = (b * x * exp(-c * x**2))\n",
    "p = diff(f, x)\n",
    "#p\n",
    "#diff(f, t)\n",
    "diff(p, x)\n"
   ]
  },
  {
   "cell_type": "code",
   "execution_count": 16,
   "metadata": {},
   "outputs": [
    {
     "data": {
      "text/plain": [
       "1.1014981359875491e+44"
      ]
     },
     "execution_count": 16,
     "metadata": {},
     "output_type": "execute_result"
    }
   ],
   "source": [
    "(((1*10**-30)**2)*9.8)/(2*((2*10**-18)**2)*(constants.hbar**2))"
   ]
  },
  {
   "cell_type": "code",
   "execution_count": 17,
   "metadata": {},
   "outputs": [
    {
     "data": {
      "text/latex": [
       "$\\displaystyle - \\frac{6 a x e^{- \\frac{x^{2}}{l^{2}}}}{l^{2}} + \\frac{4 a x^{3} e^{- \\frac{x^{2}}{l^{2}}}}{l^{4}}$"
      ],
      "text/plain": [
       "-6*a*x*exp(-x**2/l**2)/l**2 + 4*a*x**3*exp(-x**2/l**2)/l**4"
      ]
     },
     "execution_count": 17,
     "metadata": {},
     "output_type": "execute_result"
    }
   ],
   "source": [
    "# Axe^−x2/L2\n",
    "\n",
    "a, x, l = symbols('a x l', real=True)\n",
    "f = (a * x * exp((- x**2)/(l**2)))\n",
    "p = diff(f, x)\n",
    "diff(p, x)"
   ]
  },
  {
   "cell_type": "code",
   "execution_count": 18,
   "metadata": {},
   "outputs": [
    {
     "data": {
      "text/latex": [
       "$\\displaystyle 3.29286981656416 \\cdot 10^{-6}$"
      ],
      "text/plain": [
       "3.29286981656416e-6"
      ]
     },
     "execution_count": 18,
     "metadata": {},
     "output_type": "execute_result"
    }
   ],
   "source": [
    "# question 1.8a\n",
    "(2 / 27)*((0.9)**2)*(exp((-2*abs(0.9))/3))*0.0001"
   ]
  },
  {
   "cell_type": "code",
   "execution_count": 19,
   "metadata": {},
   "outputs": [
    {
     "data": {
      "text/latex": [
       "$\\displaystyle -0.0536957133198703$"
      ],
      "text/plain": [
       "-0.0536957133198703"
      ]
     },
     "execution_count": 19,
     "metadata": {},
     "output_type": "execute_result"
    }
   ],
   "source": [
    "(2 / 27)*((-0.5)*4*(exp(-4/3))-((3/4)*(exp(-4/3))))"
   ]
  },
  {
   "cell_type": "code",
   "execution_count": 26,
   "metadata": {},
   "outputs": [
    {
     "data": {
      "text/latex": [
       "$\\displaystyle 0.0732214272543685$"
      ],
      "text/plain": [
       "0.0732214272543685"
      ]
     },
     "execution_count": 26,
     "metadata": {},
     "output_type": "execute_result"
    }
   ],
   "source": [
    "(1/18)*((8*exp(-4/3))-(9*(((4/3)*exp(-4/3))-exp(-4/3))))"
   ]
  },
  {
   "cell_type": "code",
   "execution_count": 21,
   "metadata": {},
   "outputs": [
    {
     "data": {
      "text/latex": [
       "$\\displaystyle 0.101415727216314$"
      ],
      "text/plain": [
       "0.101415727216314"
      ]
     },
     "execution_count": 21,
     "metadata": {},
     "output_type": "execute_result"
    }
   ],
   "source": [
    "16/(81*(exp(2/3)))"
   ]
  },
  {
   "cell_type": "code",
   "execution_count": 22,
   "metadata": {},
   "outputs": [
    {
     "data": {
      "text/latex": [
       "$\\displaystyle \\begin{cases} \\frac{\\left(- b^{2} - 2 b x - 2 x^{2}\\right) e^{- \\frac{2 x}{b}}}{2 b^{2}} & \\text{for}\\: b^{2} \\neq 0 \\\\\\frac{2 x^{3}}{3 b^{3}} & \\text{otherwise} \\end{cases}$"
      ],
      "text/plain": [
       "Piecewise(((-b**2 - 2*b*x - 2*x**2)*exp(-2*x/b)/(2*b**2), Ne(b**2, 0)), (2*x**3/(3*b**3), True))"
      ]
     },
     "execution_count": 22,
     "metadata": {},
     "output_type": "execute_result"
    }
   ],
   "source": [
    "x,b= symbols('x b', real=True)\n",
    "integrate(((2/b**3)*(x**2)*exp(-2*x/b)), x)"
   ]
  },
  {
   "cell_type": "code",
   "execution_count": 23,
   "metadata": {},
   "outputs": [
    {
     "data": {
      "text/latex": [
       "$\\displaystyle -1.27405283422601$"
      ],
      "text/plain": [
       "-1.27405283422601"
      ]
     },
     "execution_count": 23,
     "metadata": {},
     "output_type": "execute_result"
    }
   ],
   "source": [
    "(((-3**3)-(2 * 9 * 2) - (2*3*4))*exp(-4/3))/18"
   ]
  }
 ],
 "metadata": {
  "kernelspec": {
   "display_name": "Python 3",
   "language": "python",
   "name": "python3"
  },
  "language_info": {
   "codemirror_mode": {
    "name": "ipython",
    "version": 3
   },
   "file_extension": ".py",
   "mimetype": "text/x-python",
   "name": "python",
   "nbconvert_exporter": "python",
   "pygments_lexer": "ipython3",
   "version": "3.10.4"
  },
  "orig_nbformat": 4,
  "vscode": {
   "interpreter": {
    "hash": "3ad933181bd8a04b432d3370b9dc3b0662ad032c4dfaa4e4f1596c548f763858"
   }
  }
 },
 "nbformat": 4,
 "nbformat_minor": 2
}
